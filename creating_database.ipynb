{
 "cells": [
  {
   "cell_type": "code",
   "execution_count": null,
   "metadata": {},
   "outputs": [],
   "source": [
    "import sqlite3"
   ]
  },
  {
   "cell_type": "code",
   "execution_count": null,
   "metadata": {},
   "outputs": [],
   "source": [
    "# connect to SQLite database\n",
    "# automatically create if non existent\n",
    "conn = sqlite3.connect('database.db')\n",
    "\n",
    "# create cursor object\n",
    "c = conn.cursor()\n",
    "\n",
    "c.execute('''\n",
    "    CREATE TABLE subway (\n",
    "        id INTEGER PRIMARY KEY,\n",
    "        location_name TEXT NOT NULL,\n",
    "        address TEXT,\n",
    "        operating_hour TEXT,\n",
    "        waze_link TEXT,\n",
    "        latitude REAL,\n",
    "        longitude REAL\n",
    "    )\n",
    "''')\n",
    "\n",
    "# commit the transaction\n",
    "conn.commit()\n",
    "# close the connection\n",
    "conn.close()"
   ]
  }
 ],
 "metadata": {
  "language_info": {
   "name": "python"
  }
 },
 "nbformat": 4,
 "nbformat_minor": 2
}
